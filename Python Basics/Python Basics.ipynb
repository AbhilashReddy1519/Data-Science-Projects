{
 "cells": [
  {
   "cell_type": "markdown",
   "id": "7595a89c-d70c-44a1-b0a4-bbd6f278562d",
   "metadata": {},
   "source": [
    "# Hello World"
   ]
  },
  {
   "cell_type": "markdown",
   "id": "edf1e3bc-83d5-49b9-97bc-488c22d652bc",
   "metadata": {},
   "source": [
    "One of the typical ways to get started with a programming language is printing a simple message. You can write any message, but it's traditional among coders to start with a \"Hello World,\" so let's try it.\n",
    "\n",
    "Let's print our first message using the print function. The print function prints a message to the screen."
   ]
  },
  {
   "cell_type": "code",
   "execution_count": 1,
   "id": "263b9700-8895-4458-8dad-96fc3d2438c6",
   "metadata": {},
   "outputs": [
    {
     "name": "stdout",
     "output_type": "stream",
     "text": [
      "Hello, World!\n"
     ]
    }
   ],
   "source": [
    "print(\"Hello, World!\")"
   ]
  },
  {
   "cell_type": "markdown",
   "id": "55635e86-2111-482f-8034-b3f573cebb78",
   "metadata": {},
   "source": [
    "Unlike most Python text editors, Jupyter Notebook allows us to print the last object in code cell without specifying the print function."
   ]
  },
  {
   "cell_type": "code",
   "execution_count": 2,
   "id": "4894394d-9581-48a3-b1ce-ff4abc131b9e",
   "metadata": {},
   "outputs": [
    {
     "data": {
      "text/plain": [
       "'Hello World'"
      ]
     },
     "execution_count": 2,
     "metadata": {},
     "output_type": "execute_result"
    }
   ],
   "source": [
    "\"Hello World\""
   ]
  },
  {
   "cell_type": "markdown",
   "id": "3a75f594-5cb2-40de-bb57-dce3a3986f2c",
   "metadata": {},
   "source": [
    "# Data types\n",
    "\n",
    "Every value in Python is an object. An object has different data types. Let's see the most common data type in Python.\n",
    "\n",
    "# Integer and Float\n",
    "\n",
    "Integer (int): Numbers that can be written without a fractional component."
   ]
  },
  {
   "cell_type": "code",
   "execution_count": 3,
   "id": "2ceaf0bc-a96c-453f-a86d-bd34db3665be",
   "metadata": {},
   "outputs": [
    {
     "data": {
      "text/plain": [
       "int"
      ]
     },
     "execution_count": 3,
     "metadata": {},
     "output_type": "execute_result"
    }
   ],
   "source": [
    "# To check the data type, we can use the type function.\n",
    "type(1)"
   ]
  },
  {
   "cell_type": "markdown",
   "id": "202984d6-a4f8-470d-9d4a-652459dcf7eb",
   "metadata": {},
   "source": [
    "Float (float): Numbers that contain floating decimal points."
   ]
  },
  {
   "cell_type": "code",
   "execution_count": 4,
   "id": "ad43be2b-91a8-41ad-8c56-368dc841c389",
   "metadata": {},
   "outputs": [
    {
     "data": {
      "text/plain": [
       "float"
      ]
     },
     "execution_count": 4,
     "metadata": {},
     "output_type": "execute_result"
    }
   ],
   "source": [
    "type(2.3)"
   ]
  },
  {
   "cell_type": "code",
   "execution_count": null,
   "id": "55953e83-9197-4f57-8c89-ba9b7fdd788c",
   "metadata": {},
   "outputs": [],
   "source": []
  }
 ],
 "metadata": {
  "kernelspec": {
   "display_name": "Python 3 (ipykernel)",
   "language": "python",
   "name": "python3"
  },
  "language_info": {
   "codemirror_mode": {
    "name": "ipython",
    "version": 3
   },
   "file_extension": ".py",
   "mimetype": "text/x-python",
   "name": "python",
   "nbconvert_exporter": "python",
   "pygments_lexer": "ipython3",
   "version": "3.13.3"
  }
 },
 "nbformat": 4,
 "nbformat_minor": 5
}

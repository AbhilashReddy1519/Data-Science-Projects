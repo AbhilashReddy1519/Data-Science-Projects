{
 "cells": [
  {
   "cell_type": "markdown",
   "id": "664878cc",
   "metadata": {},
   "source": [
    "## Jupiter Note Book Installation"
   ]
  },
  {
   "cell_type": "markdown",
   "id": "06d42939",
   "metadata": {},
   "source": [
    "Before installing jupiter notebook make sure you have python and pip in your system. Only after that run this commands"
   ]
  },
  {
   "cell_type": "markdown",
   "id": "0da82f3e",
   "metadata": {},
   "source": [
    "Install the classic jupiter notebook with:\n",
    "\n",
    "```bash\n",
    "pip install notebook\n",
    "```\n",
    "\n",
    "to run the notebook:\n",
    "```bash\n",
    "jupyter notebook\n",
    "```"
   ]
  },
  {
   "cell_type": "markdown",
   "id": "68a9d1f6",
   "metadata": {},
   "source": [
    "### JupyterLab\n",
    "\n",
    "Install JupyterLab with pip:\n",
    "\n",
    "```bash\n",
    "pip install jupyterlab\n",
    "```\n",
    "\n",
    "Once installed, launch JupyterLab with:\n",
    "\n",
    "```bash\n",
    "jupyter lab\n",
    "```"
   ]
  },
  {
   "cell_type": "markdown",
   "id": "1c411de0",
   "metadata": {},
   "source": [
    "## First Jupiter NoteBook Practice"
   ]
  },
  {
   "cell_type": "code",
   "execution_count": null,
   "id": "260e2c2f",
   "metadata": {
    "vscode": {
     "languageId": "plaintext"
    }
   },
   "outputs": [],
   "source": [
    "import pandas as pd"
   ]
  },
  {
   "cell_type": "code",
   "execution_count": null,
   "id": "2d929d59-8f28-4815-b6ae-786f7c7e6a4a",
   "metadata": {},
   "outputs": [
    {
     "data": {
      "text/html": [
       "<div>\n",
       "<style scoped>\n",
       "    .dataframe tbody tr th:only-of-type {\n",
       "        vertical-align: middle;\n",
       "    }\n",
       "\n",
       "    .dataframe tbody tr th {\n",
       "        vertical-align: top;\n",
       "    }\n",
       "\n",
       "    .dataframe thead th {\n",
       "        text-align: right;\n",
       "    }\n",
       "</style>\n",
       "<table border=\"1\" class=\"dataframe\">\n",
       "  <thead>\n",
       "    <tr style=\"text-align: right;\">\n",
       "      <th></th>\n",
       "      <th>States</th>\n",
       "      <th>population</th>\n",
       "    </tr>\n",
       "  </thead>\n",
       "  <tbody>\n",
       "    <tr>\n",
       "      <th>0</th>\n",
       "      <td>California</td>\n",
       "      <td>123434432</td>\n",
       "    </tr>\n",
       "    <tr>\n",
       "      <th>1</th>\n",
       "      <td>Texas</td>\n",
       "      <td>998878978</td>\n",
       "    </tr>\n",
       "    <tr>\n",
       "      <th>2</th>\n",
       "      <td>Florida</td>\n",
       "      <td>123243433</td>\n",
       "    </tr>\n",
       "    <tr>\n",
       "      <th>3</th>\n",
       "      <td>New York</td>\n",
       "      <td>7865676765</td>\n",
       "    </tr>\n",
       "  </tbody>\n",
       "</table>\n",
       "</div>"
      ],
      "text/plain": [
       "       States  population\n",
       "0  California   123434432\n",
       "1       Texas   998878978\n",
       "2     Florida   123243433\n",
       "3    New York  7865676765"
      ]
     },
     "execution_count": 3,
     "metadata": {},
     "output_type": "execute_result"
    }
   ],
   "source": [
    "#data used for example (store in lists)\n",
    "states = [\"California\", \"Texas\", \"Florida\", \"New York\"]\n",
    "population = [123434432,998878978,123243433,7865676765]\n",
    "#storing lists within a dictionary\n",
    "dict_states = {'States': states, 'population':population}\n",
    "#Creating DataFrame \n",
    "df_population = pd.DataFrame.from_dict(dict_states)\n",
    "df_population"
   ]
  }
 ],
 "metadata": {
  "kernelspec": {
   "display_name": "Python 3 (ipykernel)",
   "language": "python",
   "name": "python3"
  },
  "language_info": {
   "codemirror_mode": {
    "name": "ipython",
    "version": 3
   },
   "file_extension": ".py",
   "mimetype": "text/x-python",
   "name": "python",
   "nbconvert_exporter": "python",
   "pygments_lexer": "ipython3",
   "version": "3.13.3"
  }
 },
 "nbformat": 4,
 "nbformat_minor": 5
}
